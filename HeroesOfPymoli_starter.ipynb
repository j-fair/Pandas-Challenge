{
 "cells": [
  {
   "cell_type": "markdown",
   "metadata": {},
   "source": [
    "### Note\n",
    "* Instructions have been included for each segment. You do not have to follow them exactly, but they are included to help you think through the steps."
   ]
  },
  {
   "cell_type": "code",
   "execution_count": 2,
   "metadata": {},
   "outputs": [
    {
     "data": {
      "text/html": [
       "<div>\n",
       "<style scoped>\n",
       "    .dataframe tbody tr th:only-of-type {\n",
       "        vertical-align: middle;\n",
       "    }\n",
       "\n",
       "    .dataframe tbody tr th {\n",
       "        vertical-align: top;\n",
       "    }\n",
       "\n",
       "    .dataframe thead th {\n",
       "        text-align: right;\n",
       "    }\n",
       "</style>\n",
       "<table border=\"1\" class=\"dataframe\">\n",
       "  <thead>\n",
       "    <tr style=\"text-align: right;\">\n",
       "      <th></th>\n",
       "      <th>Purchase ID</th>\n",
       "      <th>SN</th>\n",
       "      <th>Age</th>\n",
       "      <th>Gender</th>\n",
       "      <th>Item ID</th>\n",
       "      <th>Item Name</th>\n",
       "      <th>Price</th>\n",
       "    </tr>\n",
       "  </thead>\n",
       "  <tbody>\n",
       "    <tr>\n",
       "      <th>0</th>\n",
       "      <td>0</td>\n",
       "      <td>Lisim78</td>\n",
       "      <td>20</td>\n",
       "      <td>Male</td>\n",
       "      <td>108</td>\n",
       "      <td>Extraction, Quickblade Of Trembling Hands</td>\n",
       "      <td>3.53</td>\n",
       "    </tr>\n",
       "    <tr>\n",
       "      <th>1</th>\n",
       "      <td>1</td>\n",
       "      <td>Lisovynya38</td>\n",
       "      <td>40</td>\n",
       "      <td>Male</td>\n",
       "      <td>143</td>\n",
       "      <td>Frenzied Scimitar</td>\n",
       "      <td>1.56</td>\n",
       "    </tr>\n",
       "    <tr>\n",
       "      <th>2</th>\n",
       "      <td>2</td>\n",
       "      <td>Ithergue48</td>\n",
       "      <td>24</td>\n",
       "      <td>Male</td>\n",
       "      <td>92</td>\n",
       "      <td>Final Critic</td>\n",
       "      <td>4.88</td>\n",
       "    </tr>\n",
       "    <tr>\n",
       "      <th>3</th>\n",
       "      <td>3</td>\n",
       "      <td>Chamassasya86</td>\n",
       "      <td>24</td>\n",
       "      <td>Male</td>\n",
       "      <td>100</td>\n",
       "      <td>Blindscythe</td>\n",
       "      <td>3.27</td>\n",
       "    </tr>\n",
       "    <tr>\n",
       "      <th>4</th>\n",
       "      <td>4</td>\n",
       "      <td>Iskosia90</td>\n",
       "      <td>23</td>\n",
       "      <td>Male</td>\n",
       "      <td>131</td>\n",
       "      <td>Fury</td>\n",
       "      <td>1.44</td>\n",
       "    </tr>\n",
       "  </tbody>\n",
       "</table>\n",
       "</div>"
      ],
      "text/plain": [
       "   Purchase ID             SN  Age Gender  Item ID  \\\n",
       "0            0        Lisim78   20   Male      108   \n",
       "1            1    Lisovynya38   40   Male      143   \n",
       "2            2     Ithergue48   24   Male       92   \n",
       "3            3  Chamassasya86   24   Male      100   \n",
       "4            4      Iskosia90   23   Male      131   \n",
       "\n",
       "                                   Item Name  Price  \n",
       "0  Extraction, Quickblade Of Trembling Hands   3.53  \n",
       "1                          Frenzied Scimitar   1.56  \n",
       "2                               Final Critic   4.88  \n",
       "3                                Blindscythe   3.27  \n",
       "4                                       Fury   1.44  "
      ]
     },
     "execution_count": 2,
     "metadata": {},
     "output_type": "execute_result"
    }
   ],
   "source": [
    "# Dependencies and Setup\n",
    "import pandas as pd\n",
    "import numpy as np\n",
    "\n",
    "# File to Load (Remember to Change These)\n",
    "file_to_load = \"Resources/purchase_data.csv\"\n",
    "\n",
    "# Read Purchasing File and store into Pandas data frame\n",
    "game_df = pd.read_csv(file_to_load)\n",
    "\n",
    "game_df.head()"
   ]
  },
  {
   "cell_type": "markdown",
   "metadata": {},
   "source": [
    "## Player Count"
   ]
  },
  {
   "cell_type": "markdown",
   "metadata": {},
   "source": [
    "* Display the total number of players\n"
   ]
  },
  {
   "cell_type": "code",
   "execution_count": 37,
   "metadata": {},
   "outputs": [
    {
     "data": {
      "text/plain": [
       "576"
      ]
     },
     "execution_count": 37,
     "metadata": {},
     "output_type": "execute_result"
    }
   ],
   "source": [
    "#Display total number of players by unique screen name\n",
    "player_count = game_df['SN'].nunique()\n",
    "\n",
    "player_count\n"
   ]
  },
  {
   "cell_type": "markdown",
   "metadata": {},
   "source": [
    "## Purchasing Analysis (Total)"
   ]
  },
  {
   "cell_type": "markdown",
   "metadata": {},
   "source": [
    "* Run basic calculations to obtain number of unique items, average price, etc.\n",
    "\n",
    "\n",
    "* Create a summary data frame to hold the results\n",
    "\n",
    "\n",
    "* Optional: give the displayed data cleaner formatting\n",
    "\n",
    "\n",
    "* Display the summary data frame\n"
   ]
  },
  {
   "cell_type": "code",
   "execution_count": 5,
   "metadata": {
    "scrolled": true
   },
   "outputs": [
    {
     "data": {
      "text/html": [
       "<style  type=\"text/css\" >\n",
       "</style><table id=\"T_8ee0c66a_51e4_11eb_bb13_4ccc6a24b27e\" ><thead>    <tr>        <th class=\"blank level0\" ></th>        <th class=\"col_heading level0 col0\" >Unique Items</th>        <th class=\"col_heading level0 col1\" >Average Price</th>        <th class=\"col_heading level0 col2\" >Total Purchases</th>        <th class=\"col_heading level0 col3\" >Total Revenue</th>    </tr></thead><tbody>\n",
       "                <tr>\n",
       "                        <th id=\"T_8ee0c66a_51e4_11eb_bb13_4ccc6a24b27elevel0_row0\" class=\"row_heading level0 row0\" >0</th>\n",
       "                        <td id=\"T_8ee0c66a_51e4_11eb_bb13_4ccc6a24b27erow0_col0\" class=\"data row0 col0\" >179</td>\n",
       "                        <td id=\"T_8ee0c66a_51e4_11eb_bb13_4ccc6a24b27erow0_col1\" class=\"data row0 col1\" >$3.05</td>\n",
       "                        <td id=\"T_8ee0c66a_51e4_11eb_bb13_4ccc6a24b27erow0_col2\" class=\"data row0 col2\" >780</td>\n",
       "                        <td id=\"T_8ee0c66a_51e4_11eb_bb13_4ccc6a24b27erow0_col3\" class=\"data row0 col3\" >$2,379.77</td>\n",
       "            </tr>\n",
       "    </tbody></table>"
      ],
      "text/plain": [
       "<pandas.io.formats.style.Styler at 0x1dafa913070>"
      ]
     },
     "execution_count": 5,
     "metadata": {},
     "output_type": "execute_result"
    }
   ],
   "source": [
    "#Getting numbers into variables\n",
    "unique_items = game_df['Item ID'].nunique()\n",
    "average_price = game_df['Price'].mean()\n",
    "total_purchases = game_df['Purchase ID'].nunique()\n",
    "total_revenue = game_df['Price'].sum()\n",
    "\n",
    "#Building DataFrame\n",
    "purchasing_df = pd.DataFrame([[unique_items, average_price, total_purchases, total_revenue]],\n",
    "                             columns=['Unique Items','Average Price','Total Purchases', 'Total Revenue'])\n",
    "\n",
    "\n",
    "#Formatting Revenue and price\n",
    "purchasing_df = purchasing_df.style.format({'Average Price' : \"${:,.2f}\", 'Total Revenue' : \"${:,.2f}\"})\n",
    "\n",
    "purchasing_df"
   ]
  },
  {
   "cell_type": "markdown",
   "metadata": {},
   "source": [
    "## Gender Demographics"
   ]
  },
  {
   "cell_type": "markdown",
   "metadata": {},
   "source": [
    "* Percentage and Count of Male Players\n",
    "\n",
    "\n",
    "* Percentage and Count of Female Players\n",
    "\n",
    "\n",
    "* Percentage and Count of Other / Non-Disclosed\n",
    "\n",
    "\n"
   ]
  },
  {
   "cell_type": "code",
   "execution_count": 6,
   "metadata": {},
   "outputs": [
    {
     "data": {
      "text/html": [
       "<style  type=\"text/css\" >\n",
       "</style><table id=\"T_8f49b579_51e4_11eb_9f5a_4ccc6a24b27e\" ><thead>    <tr>        <th class=\"blank level0\" ></th>        <th class=\"col_heading level0 col0\" >Total Count</th>        <th class=\"col_heading level0 col1\" >Percentage of Players</th>    </tr>    <tr>        <th class=\"index_name level0\" >Gender</th>        <th class=\"blank\" ></th>        <th class=\"blank\" ></th>    </tr></thead><tbody>\n",
       "                <tr>\n",
       "                        <th id=\"T_8f49b579_51e4_11eb_9f5a_4ccc6a24b27elevel0_row0\" class=\"row_heading level0 row0\" >Female</th>\n",
       "                        <td id=\"T_8f49b579_51e4_11eb_9f5a_4ccc6a24b27erow0_col0\" class=\"data row0 col0\" >81</td>\n",
       "                        <td id=\"T_8f49b579_51e4_11eb_9f5a_4ccc6a24b27erow0_col1\" class=\"data row0 col1\" >14.06%</td>\n",
       "            </tr>\n",
       "            <tr>\n",
       "                        <th id=\"T_8f49b579_51e4_11eb_9f5a_4ccc6a24b27elevel0_row1\" class=\"row_heading level0 row1\" >Male</th>\n",
       "                        <td id=\"T_8f49b579_51e4_11eb_9f5a_4ccc6a24b27erow1_col0\" class=\"data row1 col0\" >484</td>\n",
       "                        <td id=\"T_8f49b579_51e4_11eb_9f5a_4ccc6a24b27erow1_col1\" class=\"data row1 col1\" >84.03%</td>\n",
       "            </tr>\n",
       "            <tr>\n",
       "                        <th id=\"T_8f49b579_51e4_11eb_9f5a_4ccc6a24b27elevel0_row2\" class=\"row_heading level0 row2\" >Other / Non-Disclosed</th>\n",
       "                        <td id=\"T_8f49b579_51e4_11eb_9f5a_4ccc6a24b27erow2_col0\" class=\"data row2 col0\" >11</td>\n",
       "                        <td id=\"T_8f49b579_51e4_11eb_9f5a_4ccc6a24b27erow2_col1\" class=\"data row2 col1\" >1.91%</td>\n",
       "            </tr>\n",
       "    </tbody></table>"
      ],
      "text/plain": [
       "<pandas.io.formats.style.Styler at 0x1daf878a430>"
      ]
     },
     "execution_count": 6,
     "metadata": {},
     "output_type": "execute_result"
    }
   ],
   "source": [
    "#Getting gender counts\n",
    "player_gender = game_df.groupby(\"Gender\")[\"SN\"].nunique()\n",
    "player_gender\n",
    "\n",
    "player_gender_df = pd.DataFrame({\"Total Count\": player_gender})\n",
    "\n",
    "gender_percent = player_gender_df[\"Total Count\"] / player_gender_df[\"Total Count\"].sum() * 100\n",
    "\n",
    "player_gender_df[\"Percentage of Players\"] = gender_percent\n",
    "\n",
    "#Formatting percent\n",
    "player_gender_df = player_gender_df.style.format({\"Percentage of Players\" : \"{:.2f}%\"})\n",
    "player_gender_df"
   ]
  },
  {
   "cell_type": "markdown",
   "metadata": {},
   "source": [
    "\n",
    "## Purchasing Analysis (Gender)"
   ]
  },
  {
   "cell_type": "markdown",
   "metadata": {},
   "source": [
    "* Run basic calculations to obtain purchase count, avg. purchase price, avg. purchase total per person etc. by gender\n",
    "\n",
    "\n",
    "\n",
    "\n",
    "* Create a summary data frame to hold the results\n",
    "\n",
    "\n",
    "* Optional: give the displayed data cleaner formatting\n",
    "\n",
    "\n",
    "* Display the summary data frame"
   ]
  },
  {
   "cell_type": "code",
   "execution_count": 29,
   "metadata": {},
   "outputs": [
    {
     "data": {
      "text/html": [
       "<style  type=\"text/css\" >\n",
       "</style><table id=\"T_093f59c5_51ed_11eb_92b9_4ccc6a24b27e\" ><thead>    <tr>        <th class=\"blank level0\" ></th>        <th class=\"col_heading level0 col0\" >Purchase Count</th>        <th class=\"col_heading level0 col1\" >Average Purchase Price</th>        <th class=\"col_heading level0 col2\" >Total Purchase Value</th>        <th class=\"col_heading level0 col3\" >Average Total Purchase Per Person</th>    </tr>    <tr>        <th class=\"index_name level0\" >Gender</th>        <th class=\"blank\" ></th>        <th class=\"blank\" ></th>        <th class=\"blank\" ></th>        <th class=\"blank\" ></th>    </tr></thead><tbody>\n",
       "                <tr>\n",
       "                        <th id=\"T_093f59c5_51ed_11eb_92b9_4ccc6a24b27elevel0_row0\" class=\"row_heading level0 row0\" >Female</th>\n",
       "                        <td id=\"T_093f59c5_51ed_11eb_92b9_4ccc6a24b27erow0_col0\" class=\"data row0 col0\" >113</td>\n",
       "                        <td id=\"T_093f59c5_51ed_11eb_92b9_4ccc6a24b27erow0_col1\" class=\"data row0 col1\" >$3.20</td>\n",
       "                        <td id=\"T_093f59c5_51ed_11eb_92b9_4ccc6a24b27erow0_col2\" class=\"data row0 col2\" >$361.94</td>\n",
       "                        <td id=\"T_093f59c5_51ed_11eb_92b9_4ccc6a24b27erow0_col3\" class=\"data row0 col3\" >$4.47</td>\n",
       "            </tr>\n",
       "            <tr>\n",
       "                        <th id=\"T_093f59c5_51ed_11eb_92b9_4ccc6a24b27elevel0_row1\" class=\"row_heading level0 row1\" >Male</th>\n",
       "                        <td id=\"T_093f59c5_51ed_11eb_92b9_4ccc6a24b27erow1_col0\" class=\"data row1 col0\" >652</td>\n",
       "                        <td id=\"T_093f59c5_51ed_11eb_92b9_4ccc6a24b27erow1_col1\" class=\"data row1 col1\" >$3.02</td>\n",
       "                        <td id=\"T_093f59c5_51ed_11eb_92b9_4ccc6a24b27erow1_col2\" class=\"data row1 col2\" >$1,967.64</td>\n",
       "                        <td id=\"T_093f59c5_51ed_11eb_92b9_4ccc6a24b27erow1_col3\" class=\"data row1 col3\" >$4.07</td>\n",
       "            </tr>\n",
       "            <tr>\n",
       "                        <th id=\"T_093f59c5_51ed_11eb_92b9_4ccc6a24b27elevel0_row2\" class=\"row_heading level0 row2\" >Other / Non-Disclosed</th>\n",
       "                        <td id=\"T_093f59c5_51ed_11eb_92b9_4ccc6a24b27erow2_col0\" class=\"data row2 col0\" >15</td>\n",
       "                        <td id=\"T_093f59c5_51ed_11eb_92b9_4ccc6a24b27erow2_col1\" class=\"data row2 col1\" >$3.35</td>\n",
       "                        <td id=\"T_093f59c5_51ed_11eb_92b9_4ccc6a24b27erow2_col2\" class=\"data row2 col2\" >$50.19</td>\n",
       "                        <td id=\"T_093f59c5_51ed_11eb_92b9_4ccc6a24b27erow2_col3\" class=\"data row2 col3\" >$4.56</td>\n",
       "            </tr>\n",
       "    </tbody></table>"
      ],
      "text/plain": [
       "<pandas.io.formats.style.Styler at 0x1dafa88fbe0>"
      ]
     },
     "execution_count": 29,
     "metadata": {},
     "output_type": "execute_result"
    }
   ],
   "source": [
    "#Getting purchase information into variables to later add to dataframe\n",
    "\n",
    "gender_purchases = game_df.groupby([\"Gender\"]).count()[\"Purchase ID\"]\n",
    "gender_purchases_avg = game_df.groupby([\"Gender\"]).mean()[\"Price\"]\n",
    "gender_purchases_sum = game_df.groupby([\"Gender\"]).sum()[\"Price\"]\n",
    "gender_purchases_avg_person = gender_purchases_sum / player_gender\n",
    "\n",
    "#Checking outputs to verify numbers\n",
    "#gender_purchases\n",
    "#gender_purchases_avg\n",
    "#gender_purchases_sum\n",
    "#gender_purchases_avg_person\n",
    "\n",
    "#Creating Dataframe of calc\n",
    "gender_purchases_df = pd.DataFrame({\"Purchase Count\" : gender_purchases,\n",
    "                                   \"Average Purchase Price\" : gender_purchases_avg,\n",
    "                                   \"Total Purchase Value\" : gender_purchases_sum,\n",
    "                                   \"Average Total Purchase Per Person\" : gender_purchases_avg_person})\n",
    "     \n",
    "#Formatting    \n",
    "gender_purchases_df = gender_purchases_df.style.format({'Average Purchase Price' : \"${:,.2f}\", \n",
    "                                                        'Total Purchase Value' : \"${:,.2f}\", \n",
    "                                                        'Average Total Purchase Per Person' : \"${:,.2f}\"})\n",
    "gender_purchases_df"
   ]
  },
  {
   "cell_type": "markdown",
   "metadata": {},
   "source": [
    "## Age Demographics"
   ]
  },
  {
   "cell_type": "markdown",
   "metadata": {},
   "source": [
    "* Establish bins for ages\n",
    "\n",
    "\n",
    "* Categorize the existing players using the age bins. Hint: use pd.cut()\n",
    "\n",
    "\n",
    "* Calculate the numbers and percentages by age group\n",
    "\n",
    "\n",
    "* Create a summary data frame to hold the results\n",
    "\n",
    "\n",
    "* Optional: round the percentage column to two decimal points\n",
    "\n",
    "\n",
    "* Display Age Demographics Table\n"
   ]
  },
  {
   "cell_type": "code",
   "execution_count": 42,
   "metadata": {},
   "outputs": [
    {
     "data": {
      "text/html": [
       "<style  type=\"text/css\" >\n",
       "</style><table id=\"T_9f93f09e_51f2_11eb_aa40_4ccc6a24b27e\" ><thead>    <tr>        <th class=\"blank level0\" ></th>        <th class=\"col_heading level0 col0\" >Total Count</th>        <th class=\"col_heading level0 col1\" >Percentage of Players</th>    </tr>    <tr>        <th class=\"index_name level0\" >Age Group</th>        <th class=\"blank\" ></th>        <th class=\"blank\" ></th>    </tr></thead><tbody>\n",
       "                <tr>\n",
       "                        <th id=\"T_9f93f09e_51f2_11eb_aa40_4ccc6a24b27elevel0_row0\" class=\"row_heading level0 row0\" ><10</th>\n",
       "                        <td id=\"T_9f93f09e_51f2_11eb_aa40_4ccc6a24b27erow0_col0\" class=\"data row0 col0\" >17</td>\n",
       "                        <td id=\"T_9f93f09e_51f2_11eb_aa40_4ccc6a24b27erow0_col1\" class=\"data row0 col1\" >2.95%</td>\n",
       "            </tr>\n",
       "            <tr>\n",
       "                        <th id=\"T_9f93f09e_51f2_11eb_aa40_4ccc6a24b27elevel0_row1\" class=\"row_heading level0 row1\" >10-14</th>\n",
       "                        <td id=\"T_9f93f09e_51f2_11eb_aa40_4ccc6a24b27erow1_col0\" class=\"data row1 col0\" >22</td>\n",
       "                        <td id=\"T_9f93f09e_51f2_11eb_aa40_4ccc6a24b27erow1_col1\" class=\"data row1 col1\" >3.82%</td>\n",
       "            </tr>\n",
       "            <tr>\n",
       "                        <th id=\"T_9f93f09e_51f2_11eb_aa40_4ccc6a24b27elevel0_row2\" class=\"row_heading level0 row2\" >15-19</th>\n",
       "                        <td id=\"T_9f93f09e_51f2_11eb_aa40_4ccc6a24b27erow2_col0\" class=\"data row2 col0\" >107</td>\n",
       "                        <td id=\"T_9f93f09e_51f2_11eb_aa40_4ccc6a24b27erow2_col1\" class=\"data row2 col1\" >18.58%</td>\n",
       "            </tr>\n",
       "            <tr>\n",
       "                        <th id=\"T_9f93f09e_51f2_11eb_aa40_4ccc6a24b27elevel0_row3\" class=\"row_heading level0 row3\" >20-24</th>\n",
       "                        <td id=\"T_9f93f09e_51f2_11eb_aa40_4ccc6a24b27erow3_col0\" class=\"data row3 col0\" >258</td>\n",
       "                        <td id=\"T_9f93f09e_51f2_11eb_aa40_4ccc6a24b27erow3_col1\" class=\"data row3 col1\" >44.79%</td>\n",
       "            </tr>\n",
       "            <tr>\n",
       "                        <th id=\"T_9f93f09e_51f2_11eb_aa40_4ccc6a24b27elevel0_row4\" class=\"row_heading level0 row4\" >25-29</th>\n",
       "                        <td id=\"T_9f93f09e_51f2_11eb_aa40_4ccc6a24b27erow4_col0\" class=\"data row4 col0\" >77</td>\n",
       "                        <td id=\"T_9f93f09e_51f2_11eb_aa40_4ccc6a24b27erow4_col1\" class=\"data row4 col1\" >13.37%</td>\n",
       "            </tr>\n",
       "            <tr>\n",
       "                        <th id=\"T_9f93f09e_51f2_11eb_aa40_4ccc6a24b27elevel0_row5\" class=\"row_heading level0 row5\" >30-34</th>\n",
       "                        <td id=\"T_9f93f09e_51f2_11eb_aa40_4ccc6a24b27erow5_col0\" class=\"data row5 col0\" >52</td>\n",
       "                        <td id=\"T_9f93f09e_51f2_11eb_aa40_4ccc6a24b27erow5_col1\" class=\"data row5 col1\" >9.03%</td>\n",
       "            </tr>\n",
       "            <tr>\n",
       "                        <th id=\"T_9f93f09e_51f2_11eb_aa40_4ccc6a24b27elevel0_row6\" class=\"row_heading level0 row6\" >35-39</th>\n",
       "                        <td id=\"T_9f93f09e_51f2_11eb_aa40_4ccc6a24b27erow6_col0\" class=\"data row6 col0\" >31</td>\n",
       "                        <td id=\"T_9f93f09e_51f2_11eb_aa40_4ccc6a24b27erow6_col1\" class=\"data row6 col1\" >5.38%</td>\n",
       "            </tr>\n",
       "            <tr>\n",
       "                        <th id=\"T_9f93f09e_51f2_11eb_aa40_4ccc6a24b27elevel0_row7\" class=\"row_heading level0 row7\" >40+</th>\n",
       "                        <td id=\"T_9f93f09e_51f2_11eb_aa40_4ccc6a24b27erow7_col0\" class=\"data row7 col0\" >12</td>\n",
       "                        <td id=\"T_9f93f09e_51f2_11eb_aa40_4ccc6a24b27erow7_col1\" class=\"data row7 col1\" >2.08%</td>\n",
       "            </tr>\n",
       "    </tbody></table>"
      ],
      "text/plain": [
       "<pandas.io.formats.style.Styler at 0x1dafbadb880>"
      ]
     },
     "execution_count": 42,
     "metadata": {},
     "output_type": "execute_result"
    }
   ],
   "source": [
    "#Finding min/max\n",
    "game_df[\"Age\"].max()\n",
    "game_df[\"Age\"].min()\n",
    "\n",
    "#Creating Bins\n",
    "age_bins = [0,9,14,19,24,29,34,39,999]\n",
    "age_labels = [\"<10\", \"10-14\", \"15-19\", \"20-24\", \"25-29\", \"30-34\", \"35-39\", \"40+\"]\n",
    "\n",
    "#Creating Series\n",
    "game_df[\"Age Group\"] = pd.cut(game_df[\"Age\"], age_bins, labels=age_labels)\n",
    "\n",
    "#Creating Datframe group\n",
    "age_group_df = game_df.groupby(\"Age Group\")\n",
    "\n",
    "age_total = age_group_df[\"SN\"].nunique()\n",
    "age_percent = age_total / player_count * 100\n",
    "\n",
    "#Creating Dataframe summary\n",
    "age_summary_df = pd.DataFrame({\"Total Count\" : age_total,\n",
    "                              \"Percentage of Players\" : age_percent})\n",
    "\n",
    "\n",
    "#Formatting\n",
    "age_summary_df = age_summary_df.style.format({\"Percentage of Players\": \"{:.2f}%\"})\n",
    "\n",
    "age_summary_df"
   ]
  },
  {
   "cell_type": "markdown",
   "metadata": {},
   "source": [
    "## Purchasing Analysis (Age)"
   ]
  },
  {
   "cell_type": "markdown",
   "metadata": {},
   "source": [
    "* Bin the purchase_data data frame by age\n",
    "\n",
    "\n",
    "* Run basic calculations to obtain purchase count, avg. purchase price, avg. purchase total per person etc. in the table below\n",
    "\n",
    "\n",
    "* Create a summary data frame to hold the results\n",
    "\n",
    "\n",
    "* Optional: give the displayed data cleaner formatting\n",
    "\n",
    "\n",
    "* Display the summary data frame"
   ]
  },
  {
   "cell_type": "code",
   "execution_count": 51,
   "metadata": {},
   "outputs": [
    {
     "data": {
      "text/html": [
       "<style  type=\"text/css\" >\n",
       "</style><table id=\"T_e90901ea_51f3_11eb_98ae_4ccc6a24b27e\" ><thead>    <tr>        <th class=\"blank level0\" ></th>        <th class=\"col_heading level0 col0\" >Purchase Count</th>        <th class=\"col_heading level0 col1\" >Average Purchase Price</th>        <th class=\"col_heading level0 col2\" >Total Purchase Value</th>        <th class=\"col_heading level0 col3\" >Average Total Purchase Per Person</th>    </tr>    <tr>        <th class=\"index_name level0\" >Age Group</th>        <th class=\"blank\" ></th>        <th class=\"blank\" ></th>        <th class=\"blank\" ></th>        <th class=\"blank\" ></th>    </tr></thead><tbody>\n",
       "                <tr>\n",
       "                        <th id=\"T_e90901ea_51f3_11eb_98ae_4ccc6a24b27elevel0_row0\" class=\"row_heading level0 row0\" ><10</th>\n",
       "                        <td id=\"T_e90901ea_51f3_11eb_98ae_4ccc6a24b27erow0_col0\" class=\"data row0 col0\" >23</td>\n",
       "                        <td id=\"T_e90901ea_51f3_11eb_98ae_4ccc6a24b27erow0_col1\" class=\"data row0 col1\" >$3.35</td>\n",
       "                        <td id=\"T_e90901ea_51f3_11eb_98ae_4ccc6a24b27erow0_col2\" class=\"data row0 col2\" >$77.13</td>\n",
       "                        <td id=\"T_e90901ea_51f3_11eb_98ae_4ccc6a24b27erow0_col3\" class=\"data row0 col3\" >$4.54</td>\n",
       "            </tr>\n",
       "            <tr>\n",
       "                        <th id=\"T_e90901ea_51f3_11eb_98ae_4ccc6a24b27elevel0_row1\" class=\"row_heading level0 row1\" >10-14</th>\n",
       "                        <td id=\"T_e90901ea_51f3_11eb_98ae_4ccc6a24b27erow1_col0\" class=\"data row1 col0\" >28</td>\n",
       "                        <td id=\"T_e90901ea_51f3_11eb_98ae_4ccc6a24b27erow1_col1\" class=\"data row1 col1\" >$2.96</td>\n",
       "                        <td id=\"T_e90901ea_51f3_11eb_98ae_4ccc6a24b27erow1_col2\" class=\"data row1 col2\" >$82.78</td>\n",
       "                        <td id=\"T_e90901ea_51f3_11eb_98ae_4ccc6a24b27erow1_col3\" class=\"data row1 col3\" >$3.76</td>\n",
       "            </tr>\n",
       "            <tr>\n",
       "                        <th id=\"T_e90901ea_51f3_11eb_98ae_4ccc6a24b27elevel0_row2\" class=\"row_heading level0 row2\" >15-19</th>\n",
       "                        <td id=\"T_e90901ea_51f3_11eb_98ae_4ccc6a24b27erow2_col0\" class=\"data row2 col0\" >136</td>\n",
       "                        <td id=\"T_e90901ea_51f3_11eb_98ae_4ccc6a24b27erow2_col1\" class=\"data row2 col1\" >$3.04</td>\n",
       "                        <td id=\"T_e90901ea_51f3_11eb_98ae_4ccc6a24b27erow2_col2\" class=\"data row2 col2\" >$412.89</td>\n",
       "                        <td id=\"T_e90901ea_51f3_11eb_98ae_4ccc6a24b27erow2_col3\" class=\"data row2 col3\" >$3.86</td>\n",
       "            </tr>\n",
       "            <tr>\n",
       "                        <th id=\"T_e90901ea_51f3_11eb_98ae_4ccc6a24b27elevel0_row3\" class=\"row_heading level0 row3\" >20-24</th>\n",
       "                        <td id=\"T_e90901ea_51f3_11eb_98ae_4ccc6a24b27erow3_col0\" class=\"data row3 col0\" >365</td>\n",
       "                        <td id=\"T_e90901ea_51f3_11eb_98ae_4ccc6a24b27erow3_col1\" class=\"data row3 col1\" >$3.05</td>\n",
       "                        <td id=\"T_e90901ea_51f3_11eb_98ae_4ccc6a24b27erow3_col2\" class=\"data row3 col2\" >$1,114.06</td>\n",
       "                        <td id=\"T_e90901ea_51f3_11eb_98ae_4ccc6a24b27erow3_col3\" class=\"data row3 col3\" >$4.32</td>\n",
       "            </tr>\n",
       "            <tr>\n",
       "                        <th id=\"T_e90901ea_51f3_11eb_98ae_4ccc6a24b27elevel0_row4\" class=\"row_heading level0 row4\" >25-29</th>\n",
       "                        <td id=\"T_e90901ea_51f3_11eb_98ae_4ccc6a24b27erow4_col0\" class=\"data row4 col0\" >101</td>\n",
       "                        <td id=\"T_e90901ea_51f3_11eb_98ae_4ccc6a24b27erow4_col1\" class=\"data row4 col1\" >$2.90</td>\n",
       "                        <td id=\"T_e90901ea_51f3_11eb_98ae_4ccc6a24b27erow4_col2\" class=\"data row4 col2\" >$293.00</td>\n",
       "                        <td id=\"T_e90901ea_51f3_11eb_98ae_4ccc6a24b27erow4_col3\" class=\"data row4 col3\" >$3.81</td>\n",
       "            </tr>\n",
       "            <tr>\n",
       "                        <th id=\"T_e90901ea_51f3_11eb_98ae_4ccc6a24b27elevel0_row5\" class=\"row_heading level0 row5\" >30-34</th>\n",
       "                        <td id=\"T_e90901ea_51f3_11eb_98ae_4ccc6a24b27erow5_col0\" class=\"data row5 col0\" >73</td>\n",
       "                        <td id=\"T_e90901ea_51f3_11eb_98ae_4ccc6a24b27erow5_col1\" class=\"data row5 col1\" >$2.93</td>\n",
       "                        <td id=\"T_e90901ea_51f3_11eb_98ae_4ccc6a24b27erow5_col2\" class=\"data row5 col2\" >$214.00</td>\n",
       "                        <td id=\"T_e90901ea_51f3_11eb_98ae_4ccc6a24b27erow5_col3\" class=\"data row5 col3\" >$4.12</td>\n",
       "            </tr>\n",
       "            <tr>\n",
       "                        <th id=\"T_e90901ea_51f3_11eb_98ae_4ccc6a24b27elevel0_row6\" class=\"row_heading level0 row6\" >35-39</th>\n",
       "                        <td id=\"T_e90901ea_51f3_11eb_98ae_4ccc6a24b27erow6_col0\" class=\"data row6 col0\" >41</td>\n",
       "                        <td id=\"T_e90901ea_51f3_11eb_98ae_4ccc6a24b27erow6_col1\" class=\"data row6 col1\" >$3.60</td>\n",
       "                        <td id=\"T_e90901ea_51f3_11eb_98ae_4ccc6a24b27erow6_col2\" class=\"data row6 col2\" >$147.67</td>\n",
       "                        <td id=\"T_e90901ea_51f3_11eb_98ae_4ccc6a24b27erow6_col3\" class=\"data row6 col3\" >$4.76</td>\n",
       "            </tr>\n",
       "            <tr>\n",
       "                        <th id=\"T_e90901ea_51f3_11eb_98ae_4ccc6a24b27elevel0_row7\" class=\"row_heading level0 row7\" >40+</th>\n",
       "                        <td id=\"T_e90901ea_51f3_11eb_98ae_4ccc6a24b27erow7_col0\" class=\"data row7 col0\" >13</td>\n",
       "                        <td id=\"T_e90901ea_51f3_11eb_98ae_4ccc6a24b27erow7_col1\" class=\"data row7 col1\" >$2.94</td>\n",
       "                        <td id=\"T_e90901ea_51f3_11eb_98ae_4ccc6a24b27erow7_col2\" class=\"data row7 col2\" >$38.24</td>\n",
       "                        <td id=\"T_e90901ea_51f3_11eb_98ae_4ccc6a24b27erow7_col3\" class=\"data row7 col3\" >$3.19</td>\n",
       "            </tr>\n",
       "    </tbody></table>"
      ],
      "text/plain": [
       "<pandas.io.formats.style.Styler at 0x1dafbb04070>"
      ]
     },
     "execution_count": 51,
     "metadata": {},
     "output_type": "execute_result"
    }
   ],
   "source": [
    "#Getting variables\n",
    "\n",
    "age_purchases_count = age_group_df[\"Purchase ID\"].nunique()\n",
    "age_purchases_avg = age_group_df[\"Price\"].mean()\n",
    "age_purchases_total = age_group_df[\"Price\"].sum()\n",
    "age_purchases_avg_person = age_purchases_total / age_total\n",
    "\n",
    "#Checking output to verify numbers\n",
    "#age_purchases_count\n",
    "#age_purchases_avg\n",
    "#age_purchases_total\n",
    "#age_purchases_avg_person\n",
    "\n",
    "#Creating Dataframe\n",
    "age_purchases_summary_df = pd.DataFrame({\"Purchase Count\" : age_purchases_count,\n",
    "                                        \"Average Purchase Price\" : age_purchases_avg,\n",
    "                                        \"Total Purchase Value\" : age_purchases_total,\n",
    "                                        \"Average Total Purchase Per Person\" : age_purchases_avg_person})\n",
    "\n",
    "\n",
    "#Formatting\n",
    "age_purchases_summary_df = age_purchases_summary_df.style.format({'Average Purchase Price' : \"${:,.2f}\", \n",
    "                                                        'Total Purchase Value' : \"${:,.2f}\", \n",
    "                                                        'Average Total Purchase Per Person' : \"${:,.2f}\"})\n",
    "age_purchases_summary_df"
   ]
  },
  {
   "cell_type": "markdown",
   "metadata": {},
   "source": [
    "## Top Spenders"
   ]
  },
  {
   "cell_type": "markdown",
   "metadata": {},
   "source": [
    "* Run basic calculations to obtain the results in the table below\n",
    "\n",
    "\n",
    "* Create a summary data frame to hold the results\n",
    "\n",
    "\n",
    "* Sort the total purchase value column in descending order\n",
    "\n",
    "\n",
    "* Optional: give the displayed data cleaner formatting\n",
    "\n",
    "\n",
    "* Display a preview of the summary data frame\n",
    "\n"
   ]
  },
  {
   "cell_type": "code",
   "execution_count": 80,
   "metadata": {},
   "outputs": [
    {
     "data": {
      "text/html": [
       "<style  type=\"text/css\" >\n",
       "</style><table id=\"T_614ef2c5_51fc_11eb_bfdc_4ccc6a24b27e\" ><thead>    <tr>        <th class=\"blank level0\" ></th>        <th class=\"col_heading level0 col0\" >Purchase Count</th>        <th class=\"col_heading level0 col1\" >Average Purchase Price</th>        <th class=\"col_heading level0 col2\" >Total Purchase Value</th>    </tr>    <tr>        <th class=\"index_name level0\" >SN</th>        <th class=\"blank\" ></th>        <th class=\"blank\" ></th>        <th class=\"blank\" ></th>    </tr></thead><tbody>\n",
       "                <tr>\n",
       "                        <th id=\"T_614ef2c5_51fc_11eb_bfdc_4ccc6a24b27elevel0_row0\" class=\"row_heading level0 row0\" >Lisosia93</th>\n",
       "                        <td id=\"T_614ef2c5_51fc_11eb_bfdc_4ccc6a24b27erow0_col0\" class=\"data row0 col0\" >5</td>\n",
       "                        <td id=\"T_614ef2c5_51fc_11eb_bfdc_4ccc6a24b27erow0_col1\" class=\"data row0 col1\" >$3.79</td>\n",
       "                        <td id=\"T_614ef2c5_51fc_11eb_bfdc_4ccc6a24b27erow0_col2\" class=\"data row0 col2\" >$18.96</td>\n",
       "            </tr>\n",
       "            <tr>\n",
       "                        <th id=\"T_614ef2c5_51fc_11eb_bfdc_4ccc6a24b27elevel0_row1\" class=\"row_heading level0 row1\" >Idastidru52</th>\n",
       "                        <td id=\"T_614ef2c5_51fc_11eb_bfdc_4ccc6a24b27erow1_col0\" class=\"data row1 col0\" >4</td>\n",
       "                        <td id=\"T_614ef2c5_51fc_11eb_bfdc_4ccc6a24b27erow1_col1\" class=\"data row1 col1\" >$3.86</td>\n",
       "                        <td id=\"T_614ef2c5_51fc_11eb_bfdc_4ccc6a24b27erow1_col2\" class=\"data row1 col2\" >$15.45</td>\n",
       "            </tr>\n",
       "            <tr>\n",
       "                        <th id=\"T_614ef2c5_51fc_11eb_bfdc_4ccc6a24b27elevel0_row2\" class=\"row_heading level0 row2\" >Chamjask73</th>\n",
       "                        <td id=\"T_614ef2c5_51fc_11eb_bfdc_4ccc6a24b27erow2_col0\" class=\"data row2 col0\" >3</td>\n",
       "                        <td id=\"T_614ef2c5_51fc_11eb_bfdc_4ccc6a24b27erow2_col1\" class=\"data row2 col1\" >$4.61</td>\n",
       "                        <td id=\"T_614ef2c5_51fc_11eb_bfdc_4ccc6a24b27erow2_col2\" class=\"data row2 col2\" >$13.83</td>\n",
       "            </tr>\n",
       "            <tr>\n",
       "                        <th id=\"T_614ef2c5_51fc_11eb_bfdc_4ccc6a24b27elevel0_row3\" class=\"row_heading level0 row3\" >Iral74</th>\n",
       "                        <td id=\"T_614ef2c5_51fc_11eb_bfdc_4ccc6a24b27erow3_col0\" class=\"data row3 col0\" >4</td>\n",
       "                        <td id=\"T_614ef2c5_51fc_11eb_bfdc_4ccc6a24b27erow3_col1\" class=\"data row3 col1\" >$3.40</td>\n",
       "                        <td id=\"T_614ef2c5_51fc_11eb_bfdc_4ccc6a24b27erow3_col2\" class=\"data row3 col2\" >$13.62</td>\n",
       "            </tr>\n",
       "            <tr>\n",
       "                        <th id=\"T_614ef2c5_51fc_11eb_bfdc_4ccc6a24b27elevel0_row4\" class=\"row_heading level0 row4\" >Iskadarya95</th>\n",
       "                        <td id=\"T_614ef2c5_51fc_11eb_bfdc_4ccc6a24b27erow4_col0\" class=\"data row4 col0\" >3</td>\n",
       "                        <td id=\"T_614ef2c5_51fc_11eb_bfdc_4ccc6a24b27erow4_col1\" class=\"data row4 col1\" >$4.37</td>\n",
       "                        <td id=\"T_614ef2c5_51fc_11eb_bfdc_4ccc6a24b27erow4_col2\" class=\"data row4 col2\" >$13.10</td>\n",
       "            </tr>\n",
       "    </tbody></table>"
      ],
      "text/plain": [
       "<pandas.io.formats.style.Styler at 0x1dafbb04700>"
      ]
     },
     "execution_count": 80,
     "metadata": {},
     "output_type": "execute_result"
    }
   ],
   "source": [
    "spend_df = game_df.groupby(\"SN\")\n",
    "\n",
    "top_spend_count = spend_df[\"Purchase ID\"].count()\n",
    "top_spend_avg = spend_df[\"Price\"].mean()\n",
    "top_spend_value = spend_df[\"Price\"].sum()\n",
    "\n",
    "#Creating dataframe\n",
    "top_spend_df = pd.DataFrame({\"Purchase Count\" : top_spend_count,\n",
    "                            \"Average Purchase Price\" : top_spend_avg,\n",
    "                            \"Total Purchase Value\" : top_spend_value})\n",
    "\n",
    "\n",
    "#Sort Dataframe descending by total purchase\n",
    "top_spend_df = top_spend_df.sort_values(by=[\"Total Purchase Value\"], ascending=False)\n",
    "\n",
    "#Formatting\n",
    "top_spend_df = top_spend_df.head().style.format({'Average Purchase Price' : \"${:,.2f}\", \n",
    "                                        'Total Purchase Value' : \"${:,.2f}\"})\n",
    "\n",
    "top_spend_df"
   ]
  },
  {
   "cell_type": "markdown",
   "metadata": {},
   "source": [
    "## Most Popular Items"
   ]
  },
  {
   "cell_type": "markdown",
   "metadata": {},
   "source": [
    "* Retrieve the Item ID, Item Name, and Item Price columns\n",
    "\n",
    "\n",
    "* Group by Item ID and Item Name. Perform calculations to obtain purchase count, average item price, and total purchase value\n",
    "\n",
    "\n",
    "* Create a summary data frame to hold the results\n",
    "\n",
    "\n",
    "* Sort the purchase count column in descending order\n",
    "\n",
    "\n",
    "* Optional: give the displayed data cleaner formatting\n",
    "\n",
    "\n",
    "* Display a preview of the summary data frame\n",
    "\n"
   ]
  },
  {
   "cell_type": "code",
   "execution_count": 113,
   "metadata": {},
   "outputs": [
    {
     "data": {
      "text/html": [
       "<style  type=\"text/css\" >\n",
       "</style><table id=\"T_ed2b6c19_5205_11eb_9f8c_4ccc6a24b27e\" ><thead>    <tr>        <th class=\"blank\" ></th>        <th class=\"blank level0\" ></th>        <th class=\"col_heading level0 col0\" >Purchase Count</th>        <th class=\"col_heading level0 col1\" >Item Price</th>        <th class=\"col_heading level0 col2\" >Total Purchase Value</th>    </tr>    <tr>        <th class=\"index_name level0\" >Item ID</th>        <th class=\"index_name level1\" >Item Name</th>        <th class=\"blank\" ></th>        <th class=\"blank\" ></th>        <th class=\"blank\" ></th>    </tr></thead><tbody>\n",
       "                <tr>\n",
       "                        <th id=\"T_ed2b6c19_5205_11eb_9f8c_4ccc6a24b27elevel0_row0\" class=\"row_heading level0 row0\" >92</th>\n",
       "                        <th id=\"T_ed2b6c19_5205_11eb_9f8c_4ccc6a24b27elevel1_row0\" class=\"row_heading level1 row0\" >Final Critic</th>\n",
       "                        <td id=\"T_ed2b6c19_5205_11eb_9f8c_4ccc6a24b27erow0_col0\" class=\"data row0 col0\" >13</td>\n",
       "                        <td id=\"T_ed2b6c19_5205_11eb_9f8c_4ccc6a24b27erow0_col1\" class=\"data row0 col1\" >$4.61</td>\n",
       "                        <td id=\"T_ed2b6c19_5205_11eb_9f8c_4ccc6a24b27erow0_col2\" class=\"data row0 col2\" >$59.99</td>\n",
       "            </tr>\n",
       "            <tr>\n",
       "                        <th id=\"T_ed2b6c19_5205_11eb_9f8c_4ccc6a24b27elevel0_row1\" class=\"row_heading level0 row1\" >178</th>\n",
       "                        <th id=\"T_ed2b6c19_5205_11eb_9f8c_4ccc6a24b27elevel1_row1\" class=\"row_heading level1 row1\" >Oathbreaker, Last Hope of the Breaking Storm</th>\n",
       "                        <td id=\"T_ed2b6c19_5205_11eb_9f8c_4ccc6a24b27erow1_col0\" class=\"data row1 col0\" >12</td>\n",
       "                        <td id=\"T_ed2b6c19_5205_11eb_9f8c_4ccc6a24b27erow1_col1\" class=\"data row1 col1\" >$4.23</td>\n",
       "                        <td id=\"T_ed2b6c19_5205_11eb_9f8c_4ccc6a24b27erow1_col2\" class=\"data row1 col2\" >$50.76</td>\n",
       "            </tr>\n",
       "            <tr>\n",
       "                        <th id=\"T_ed2b6c19_5205_11eb_9f8c_4ccc6a24b27elevel0_row2\" class=\"row_heading level0 row2\" >145</th>\n",
       "                        <th id=\"T_ed2b6c19_5205_11eb_9f8c_4ccc6a24b27elevel1_row2\" class=\"row_heading level1 row2\" >Fiery Glass Crusader</th>\n",
       "                        <td id=\"T_ed2b6c19_5205_11eb_9f8c_4ccc6a24b27erow2_col0\" class=\"data row2 col0\" >9</td>\n",
       "                        <td id=\"T_ed2b6c19_5205_11eb_9f8c_4ccc6a24b27erow2_col1\" class=\"data row2 col1\" >$4.58</td>\n",
       "                        <td id=\"T_ed2b6c19_5205_11eb_9f8c_4ccc6a24b27erow2_col2\" class=\"data row2 col2\" >$41.22</td>\n",
       "            </tr>\n",
       "            <tr>\n",
       "                        <th id=\"T_ed2b6c19_5205_11eb_9f8c_4ccc6a24b27elevel0_row3\" class=\"row_heading level0 row3\" >132</th>\n",
       "                        <th id=\"T_ed2b6c19_5205_11eb_9f8c_4ccc6a24b27elevel1_row3\" class=\"row_heading level1 row3\" >Persuasion</th>\n",
       "                        <td id=\"T_ed2b6c19_5205_11eb_9f8c_4ccc6a24b27erow3_col0\" class=\"data row3 col0\" >9</td>\n",
       "                        <td id=\"T_ed2b6c19_5205_11eb_9f8c_4ccc6a24b27erow3_col1\" class=\"data row3 col1\" >$3.22</td>\n",
       "                        <td id=\"T_ed2b6c19_5205_11eb_9f8c_4ccc6a24b27erow3_col2\" class=\"data row3 col2\" >$28.99</td>\n",
       "            </tr>\n",
       "            <tr>\n",
       "                        <th id=\"T_ed2b6c19_5205_11eb_9f8c_4ccc6a24b27elevel0_row4\" class=\"row_heading level0 row4\" >108</th>\n",
       "                        <th id=\"T_ed2b6c19_5205_11eb_9f8c_4ccc6a24b27elevel1_row4\" class=\"row_heading level1 row4\" >Extraction, Quickblade Of Trembling Hands</th>\n",
       "                        <td id=\"T_ed2b6c19_5205_11eb_9f8c_4ccc6a24b27erow4_col0\" class=\"data row4 col0\" >9</td>\n",
       "                        <td id=\"T_ed2b6c19_5205_11eb_9f8c_4ccc6a24b27erow4_col1\" class=\"data row4 col1\" >$3.53</td>\n",
       "                        <td id=\"T_ed2b6c19_5205_11eb_9f8c_4ccc6a24b27erow4_col2\" class=\"data row4 col2\" >$31.77</td>\n",
       "            </tr>\n",
       "    </tbody></table>"
      ],
      "text/plain": [
       "<pandas.io.formats.style.Styler at 0x1dafe618520>"
      ]
     },
     "execution_count": 113,
     "metadata": {},
     "output_type": "execute_result"
    }
   ],
   "source": [
    "items_df = game_df[['Item ID', 'Item Name', 'Price']]\n",
    "\n",
    "items_group_df = items_df.groupby(['Item ID', 'Item Name'])\n",
    "\n",
    "#Variable collection\n",
    "items_pop_count = items_group_df[\"Item ID\"].count()\n",
    "items_pop_total = items_group_df[\"Price\"].sum()\n",
    "items_pop_avg = items_pop_total / items_pop_count\n",
    "\n",
    "#Checking output\n",
    "#items_pop_count\n",
    "#items_pop_total\n",
    "#items_pop_avg\n",
    "\n",
    "#Creating dataframe\n",
    "items_pop_df = pd.DataFrame ({\"Purchase Count\" : items_pop_count,\n",
    "                              \"Item Price\" : items_pop_avg,\n",
    "                              \"Total Purchase Value\" : items_pop_total})\n",
    "\n",
    "#Formatting\n",
    "items_pop_df.sort_values(['Purchase Count'], ascending=False).head().style.format({\n",
    "                                                                                                    'Item Price' : \"${:,.2f}\", \n",
    "                                                                                                    'Total Purchase Value' : \"${:,.2f}\"})"
   ]
  },
  {
   "cell_type": "markdown",
   "metadata": {},
   "source": [
    "## Most Profitable Items"
   ]
  },
  {
   "cell_type": "markdown",
   "metadata": {},
   "source": [
    "* Sort the above table by total purchase value in descending order\n",
    "\n",
    "\n",
    "* Optional: give the displayed data cleaner formatting\n",
    "\n",
    "\n",
    "* Display a preview of the data frame\n",
    "\n"
   ]
  },
  {
   "cell_type": "code",
   "execution_count": 112,
   "metadata": {
    "scrolled": true
   },
   "outputs": [
    {
     "ename": "AttributeError",
     "evalue": "'Styler' object has no attribute 'sort_values'",
     "output_type": "error",
     "traceback": [
      "\u001b[1;31m---------------------------------------------------------------------------\u001b[0m",
      "\u001b[1;31mAttributeError\u001b[0m                            Traceback (most recent call last)",
      "\u001b[1;32m<ipython-input-112-b29c3a87187b>\u001b[0m in \u001b[0;36m<module>\u001b[1;34m\u001b[0m\n\u001b[0;32m      1\u001b[0m \u001b[1;31m#Learned here that once you apply a style, it's no longer a dataframe\u001b[0m\u001b[1;33m\u001b[0m\u001b[1;33m\u001b[0m\u001b[1;33m\u001b[0m\u001b[0m\n\u001b[1;32m----> 2\u001b[1;33m \u001b[0mitems_profit\u001b[0m \u001b[1;33m=\u001b[0m \u001b[0mitems_pop_df\u001b[0m\u001b[1;33m.\u001b[0m\u001b[0msort_values\u001b[0m\u001b[1;33m(\u001b[0m\u001b[1;34m\"Total Purchase Value\"\u001b[0m\u001b[1;33m,\u001b[0m \u001b[0mascending\u001b[0m\u001b[1;33m=\u001b[0m\u001b[1;32mFalse\u001b[0m\u001b[1;33m)\u001b[0m\u001b[1;33m\u001b[0m\u001b[1;33m\u001b[0m\u001b[0m\n\u001b[0m\u001b[0;32m      3\u001b[0m \u001b[1;33m\u001b[0m\u001b[0m\n\u001b[0;32m      4\u001b[0m \u001b[0mitems_profit\u001b[0m\u001b[1;33m\u001b[0m\u001b[1;33m\u001b[0m\u001b[0m\n",
      "\u001b[1;31mAttributeError\u001b[0m: 'Styler' object has no attribute 'sort_values'"
     ]
    }
   ],
   "source": [
    "#Learned here that once you apply a style, it's no longer a dataframe\n"
   ]
  },
  {
   "cell_type": "code",
   "execution_count": 114,
   "metadata": {},
   "outputs": [
    {
     "data": {
      "text/html": [
       "<style  type=\"text/css\" >\n",
       "</style><table id=\"T_13224b8a_5206_11eb_9713_4ccc6a24b27e\" ><thead>    <tr>        <th class=\"blank\" ></th>        <th class=\"blank level0\" ></th>        <th class=\"col_heading level0 col0\" >Purchase Count</th>        <th class=\"col_heading level0 col1\" >Item Price</th>        <th class=\"col_heading level0 col2\" >Total Purchase Value</th>    </tr>    <tr>        <th class=\"index_name level0\" >Item ID</th>        <th class=\"index_name level1\" >Item Name</th>        <th class=\"blank\" ></th>        <th class=\"blank\" ></th>        <th class=\"blank\" ></th>    </tr></thead><tbody>\n",
       "                <tr>\n",
       "                        <th id=\"T_13224b8a_5206_11eb_9713_4ccc6a24b27elevel0_row0\" class=\"row_heading level0 row0\" >92</th>\n",
       "                        <th id=\"T_13224b8a_5206_11eb_9713_4ccc6a24b27elevel1_row0\" class=\"row_heading level1 row0\" >Final Critic</th>\n",
       "                        <td id=\"T_13224b8a_5206_11eb_9713_4ccc6a24b27erow0_col0\" class=\"data row0 col0\" >13</td>\n",
       "                        <td id=\"T_13224b8a_5206_11eb_9713_4ccc6a24b27erow0_col1\" class=\"data row0 col1\" >$4.61</td>\n",
       "                        <td id=\"T_13224b8a_5206_11eb_9713_4ccc6a24b27erow0_col2\" class=\"data row0 col2\" >$59.99</td>\n",
       "            </tr>\n",
       "            <tr>\n",
       "                        <th id=\"T_13224b8a_5206_11eb_9713_4ccc6a24b27elevel0_row1\" class=\"row_heading level0 row1\" >178</th>\n",
       "                        <th id=\"T_13224b8a_5206_11eb_9713_4ccc6a24b27elevel1_row1\" class=\"row_heading level1 row1\" >Oathbreaker, Last Hope of the Breaking Storm</th>\n",
       "                        <td id=\"T_13224b8a_5206_11eb_9713_4ccc6a24b27erow1_col0\" class=\"data row1 col0\" >12</td>\n",
       "                        <td id=\"T_13224b8a_5206_11eb_9713_4ccc6a24b27erow1_col1\" class=\"data row1 col1\" >$4.23</td>\n",
       "                        <td id=\"T_13224b8a_5206_11eb_9713_4ccc6a24b27erow1_col2\" class=\"data row1 col2\" >$50.76</td>\n",
       "            </tr>\n",
       "            <tr>\n",
       "                        <th id=\"T_13224b8a_5206_11eb_9713_4ccc6a24b27elevel0_row2\" class=\"row_heading level0 row2\" >82</th>\n",
       "                        <th id=\"T_13224b8a_5206_11eb_9713_4ccc6a24b27elevel1_row2\" class=\"row_heading level1 row2\" >Nirvana</th>\n",
       "                        <td id=\"T_13224b8a_5206_11eb_9713_4ccc6a24b27erow2_col0\" class=\"data row2 col0\" >9</td>\n",
       "                        <td id=\"T_13224b8a_5206_11eb_9713_4ccc6a24b27erow2_col1\" class=\"data row2 col1\" >$4.90</td>\n",
       "                        <td id=\"T_13224b8a_5206_11eb_9713_4ccc6a24b27erow2_col2\" class=\"data row2 col2\" >$44.10</td>\n",
       "            </tr>\n",
       "            <tr>\n",
       "                        <th id=\"T_13224b8a_5206_11eb_9713_4ccc6a24b27elevel0_row3\" class=\"row_heading level0 row3\" >145</th>\n",
       "                        <th id=\"T_13224b8a_5206_11eb_9713_4ccc6a24b27elevel1_row3\" class=\"row_heading level1 row3\" >Fiery Glass Crusader</th>\n",
       "                        <td id=\"T_13224b8a_5206_11eb_9713_4ccc6a24b27erow3_col0\" class=\"data row3 col0\" >9</td>\n",
       "                        <td id=\"T_13224b8a_5206_11eb_9713_4ccc6a24b27erow3_col1\" class=\"data row3 col1\" >$4.58</td>\n",
       "                        <td id=\"T_13224b8a_5206_11eb_9713_4ccc6a24b27erow3_col2\" class=\"data row3 col2\" >$41.22</td>\n",
       "            </tr>\n",
       "            <tr>\n",
       "                        <th id=\"T_13224b8a_5206_11eb_9713_4ccc6a24b27elevel0_row4\" class=\"row_heading level0 row4\" >103</th>\n",
       "                        <th id=\"T_13224b8a_5206_11eb_9713_4ccc6a24b27elevel1_row4\" class=\"row_heading level1 row4\" >Singed Scalpel</th>\n",
       "                        <td id=\"T_13224b8a_5206_11eb_9713_4ccc6a24b27erow4_col0\" class=\"data row4 col0\" >8</td>\n",
       "                        <td id=\"T_13224b8a_5206_11eb_9713_4ccc6a24b27erow4_col1\" class=\"data row4 col1\" >$4.35</td>\n",
       "                        <td id=\"T_13224b8a_5206_11eb_9713_4ccc6a24b27erow4_col2\" class=\"data row4 col2\" >$34.80</td>\n",
       "            </tr>\n",
       "    </tbody></table>"
      ],
      "text/plain": [
       "<pandas.io.formats.style.Styler at 0x1dafdae99d0>"
      ]
     },
     "execution_count": 114,
     "metadata": {},
     "output_type": "execute_result"
    }
   ],
   "source": [
    "#Learned here that I could not list dataframe again after styling, had to delete last df output from above\n",
    "items_pop_df.sort_values(['Total Purchase Value'], ascending=False).head().style.format({\n",
    "                                                                                                    'Item Price' : \"${:,.2f}\", \n",
    "                                                                                                    'Total Purchase Value' : \"${:,.2f}\"})"
   ]
  },
  {
   "cell_type": "code",
   "execution_count": null,
   "metadata": {},
   "outputs": [],
   "source": []
  }
 ],
 "metadata": {
  "anaconda-cloud": {},
  "kernel_info": {
   "name": "python3"
  },
  "kernelspec": {
   "display_name": "Python 3",
   "language": "python",
   "name": "python3"
  },
  "language_info": {
   "codemirror_mode": {
    "name": "ipython",
    "version": 3
   },
   "file_extension": ".py",
   "mimetype": "text/x-python",
   "name": "python",
   "nbconvert_exporter": "python",
   "pygments_lexer": "ipython3",
   "version": "3.8.5"
  },
  "latex_envs": {
   "LaTeX_envs_menu_present": true,
   "autoclose": false,
   "autocomplete": true,
   "bibliofile": "biblio.bib",
   "cite_by": "apalike",
   "current_citInitial": 1,
   "eqLabelWithNumbers": true,
   "eqNumInitial": 1,
   "hotkeys": {
    "equation": "Ctrl-E",
    "itemize": "Ctrl-I"
   },
   "labels_anchors": false,
   "latex_user_defs": false,
   "report_style_numbering": false,
   "user_envs_cfg": false
  },
  "nteract": {
   "version": "0.2.0"
  }
 },
 "nbformat": 4,
 "nbformat_minor": 2
}
